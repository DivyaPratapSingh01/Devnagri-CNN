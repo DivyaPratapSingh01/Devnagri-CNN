# Devanagari_Character_Classification.ipynb

import os
import numpy as np
import matplotlib.pyplot as plt
import seaborn as sns
from sklearn.preprocessing import LabelEncoder
from sklearn.metrics import classification_report, confusion_matrix

import tensorflow as tf
from tensorflow.keras.preprocessing.image import ImageDataGenerator
from tensorflow.keras import layers, models, callbacks

# Set paths
train_path = "dataset/train"
test_path = "dataset/test"

# Image dimensions
img_height, img_width = 32, 32
batch_size = 64

# Data Generators
train_datagen = ImageDataGenerator(rescale=1./255, validation_split=0.2)

train_gen = train_datagen.flow_from_directory(
    train_path,
    target_size=(img_height, img_width),
    batch_size=batch_size,
    class_mode='categorical',
    subset='training',
    shuffle=True,
    color_mode='grayscale'
)

val_gen = train_datagen.flow_from_directory(
    train_path,
    target_size=(img_height, img_width),
    batch_size=batch_size,
    class_mode='categorical',
    subset='validation',
    shuffle=True,
    color_mode='grayscale'
)

test_datagen = ImageDataGenerator(rescale=1./255)

test_gen = test_datagen.flow_from_directory(
    test_path,
    target_size=(img_height, img_width),
    batch_size=1,
    class_mode='categorical',
    shuffle=False,
    color_mode='grayscale'
)

# Number of classes
num_classes = train_gen.num_classes

# Build CNN model
model = models.Sequential([
    layers.Conv2D(32, (3, 3), activation='relu', input_shape=(img_height, img_width, 1)),
    layers.MaxPooling2D((2, 2)),

    layers.Conv2D(64, (3, 3), activation='relu'),
    layers.MaxPooling2D((2, 2)),

    layers.Flatten(),
    layers.Dense(128, activation='relu'),
    layers.Dropout(0.3),
    layers.Dense(num_classes, activation='softmax')
])

model.compile(optimizer='adam',
              loss='categorical_crossentropy',
              metrics=['accuracy'])

model.summary()

# Train model
history = model.fit(
    train_gen,
    validation_data=val_gen,
    epochs=10
)

# Evaluate model
loss, acc = model.evaluate(test_gen)
print(f"\nTest Accuracy: {acc * 100:.2f}%")

# Classification Report
y_true = test_gen.classes
y_pred = model.predict(test_gen)
y_pred_labels = np.argmax(y_pred, axis=1)

print("\nClassification Report:")
print(classification_report(y_true, y_pred_labels))

# Confusion Matrix
plt.figure(figsize=(10, 8))
cm = confusion_matrix(y_true, y_pred_labels)
sns.heatmap(cm, annot=False, cmap="Blues", xticklabels=test_gen.class_indices, yticklabels=test_gen.class_indices)
plt.title("Confusion Matrix")
plt.show()
